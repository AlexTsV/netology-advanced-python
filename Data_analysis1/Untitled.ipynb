{
 "cells": [
  {
   "cell_type": "code",
   "execution_count": 1,
   "metadata": {},
   "outputs": [],
   "source": [
    "import pandas as pd"
   ]
  },
  {
   "cell_type": "code",
   "execution_count": 199,
   "metadata": {},
   "outputs": [],
   "source": [
    "def count_top3(years):\n",
    "    list = []\n",
    "    for year in years:\n",
    "        name_df = pd.read_csv(f'names/yob{year}.txt', names = ['Name', 'Gender', 'Count'])\n",
    "        name_df['Year'] = year\n",
    "        list.append(name_df)\n",
    "    all_years = pd.concat(list)\n",
    "    top = all_years.groupby(['Name']).sum().sort_values('Count',ascending=False)\n",
    "    print(top[:3])"
   ]
  },
  {
   "cell_type": "code",
   "execution_count": 200,
   "metadata": {},
   "outputs": [
    {
     "name": "stdout",
     "output_type": "stream",
     "text": [
      "         Count   Year\n",
      "Name                 \n",
      "James   111798  11700\n",
      "John    109593  11700\n",
      "Robert  101373  11700\n"
     ]
    }
   ],
   "source": [
    "count_top3([1900, 1950, 2000])"
   ]
  },
  {
   "cell_type": "code",
   "execution_count": 192,
   "metadata": {},
   "outputs": [],
   "source": [
    "def count_dynamics(years):\n",
    "    list = []\n",
    "    for year in years:\n",
    "        name_df = pd.read_csv(f'names/yob{year}.txt', names = ['Name', 'Gender', 'Count'])\n",
    "        name_df['Year'] = year\n",
    "        list.append(name_df)\n",
    "    all_years = pd.concat(list)\n",
    "    stacked_df = all_years.groupby(['Year', 'Gender']).sum()\n",
    "    print(stacked_df)"
   ]
  },
  {
   "cell_type": "code",
   "execution_count": 193,
   "metadata": {},
   "outputs": [
    {
     "name": "stdout",
     "output_type": "stream",
     "text": [
      "               Count\n",
      "Year Gender         \n",
      "1900 F        299800\n",
      "     M        150483\n",
      "1950 F       1713151\n",
      "     M       1790549\n",
      "2000 F       1815110\n",
      "     M       1962969\n"
     ]
    }
   ],
   "source": [
    "count_dynamics([1900, 1950, 2000])"
   ]
  },
  {
   "cell_type": "code",
   "execution_count": null,
   "metadata": {},
   "outputs": [],
   "source": []
  }
 ],
 "metadata": {
  "kernelspec": {
   "display_name": "Python 3",
   "language": "python",
   "name": "python3"
  },
  "language_info": {
   "codemirror_mode": {
    "name": "ipython",
    "version": 3
   },
   "file_extension": ".py",
   "mimetype": "text/x-python",
   "name": "python",
   "nbconvert_exporter": "python",
   "pygments_lexer": "ipython3",
   "version": "3.7.1"
  }
 },
 "nbformat": 4,
 "nbformat_minor": 2
}
